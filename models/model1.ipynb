{
 "cells": [
  {
   "cell_type": "code",
   "execution_count": 1,
   "id": "dbf81ce9-f2e5-46bd-a74e-1d61f361f9cb",
   "metadata": {},
   "outputs": [
    {
     "name": "stderr",
     "output_type": "stream",
     "text": [
      "C:\\Users\\yoavl\\AppData\\Local\\Programs\\Python\\Python311\\Lib\\site-packages\\tqdm\\auto.py:21: TqdmWarning: IProgress not found. Please update jupyter and ipywidgets. See https://ipywidgets.readthedocs.io/en/stable/user_install.html\n",
      "  from .autonotebook import tqdm as notebook_tqdm\n"
     ]
    }
   ],
   "source": [
    "import csv\n",
    "import pandas as pd\n",
    "import matplotlib.pyplot as plt\n",
    "import numpy as np\n",
    "import os\n",
    "from sklearn.model_selection import train_test_split\n",
    "import seaborn as sns \n",
    "from sklearn.preprocessing import StandardScaler\n",
    "from sklearn.decomposition import PCA\n",
    "import matplotlib.pyplot as plt\n",
    "import torch\n",
    "from torch.utils.data import TensorDataset, DataLoader ,random_split\n",
    "import torch.nn as nn\n",
    "import torch.optim as optim\n",
    "from tqdm.auto import tqdm\n",
    "from sklearn.preprocessing import MinMaxScaler\n",
    "import copy"
   ]
  },
  {
   "cell_type": "code",
   "execution_count": 2,
   "id": "87cb2f86-5ae2-49c2-94dc-979e8e04c10b",
   "metadata": {},
   "outputs": [],
   "source": [
    "def create_torch_dataset():\n",
    "    all_data = []\n",
    "    scaler = MinMaxScaler()\n",
    "    columns = ['Input Voltage', 'Output Voltage', 'Tachometer']\n",
    "    num_rows = 122824\n",
    "    for i in range(1, 561):\n",
    "        temp_df = pd.read_csv(f'../PHM09_competition_1/Run_{i}.csv', names=columns, nrows=num_rows)\n",
    "        normalized_data = scaler.fit_transform(temp_df)\n",
    "        temp_tensor = torch.tensor(normalized_data, dtype=torch.float32)\n",
    "        temp_tensor = temp_tensor.unsqueeze(dim=0)  # Adding a channel dimension\n",
    "        all_data.append(temp_tensor)\n",
    "    \n",
    "    all_data_tensor = torch.stack(all_data, dim=0)\n",
    "    return all_data_tensor\n",
    "\n",
    "dataset_tensor = create_torch_dataset()"
   ]
  },
  {
   "cell_type": "code",
   "execution_count": 3,
   "id": "f8cfcfb6-5a00-4724-90a9-9ed0ae9a6799",
   "metadata": {},
   "outputs": [
    {
     "data": {
      "text/plain": [
       "torch.Size([560, 1, 122824, 3])"
      ]
     },
     "execution_count": 3,
     "metadata": {},
     "output_type": "execute_result"
    }
   ],
   "source": [
    "dataset_tensor.shape"
   ]
  },
  {
   "cell_type": "code",
   "execution_count": 4,
   "id": "b0f4b582-d0d6-4b67-8358-600c1e13984d",
   "metadata": {},
   "outputs": [
    {
     "name": "stdout",
     "output_type": "stream",
     "text": [
      "Epoch 1: train loss 19253.90277317592 val loss 8315.61745779855\n",
      "Epoch 2: train loss 6781.392303466797 val loss 5343.426062447684\n",
      "Epoch 3: train loss 5114.375869750977 val loss 5072.595467703683\n",
      "Epoch 4: train loss 4320.109405517578 val loss 4654.436525617327\n",
      "Epoch 5: train loss 3738.915455409459 val loss 3272.9041333879745\n",
      "Epoch 6: train loss 3364.825637817383 val loss 3356.017333984375\n",
      "Epoch 7: train loss 3200.708116258894 val loss 3022.8571428571427\n",
      "Epoch 8: train loss 3071.361956187657 val loss 2951.8286743164062\n",
      "Epoch 9: train loss 2965.20302936009 val loss 3262.6512625558034\n",
      "Epoch 10: train loss 3008.110984529768 val loss 3290.0622035435267\n",
      "Epoch 11: train loss 2864.2097571236745 val loss 2827.5806001935684\n",
      "Epoch 12: train loss 2789.8813765389577 val loss 2791.406557355608\n",
      "Epoch 13: train loss 2799.9069791521347 val loss 3097.534731183733\n",
      "Epoch 14: train loss 2797.8524319784983 val loss 2738.666452680315\n",
      "Epoch 15: train loss 2675.32606615339 val loss 2532.8520344325475\n",
      "CPU times: total: 1h 57min 24s\n",
      "Wall time: 27min 2s\n"
     ]
    }
   ],
   "source": [
    "%%time\n",
    "\n",
    "class Autoencoder(nn.Module):\n",
    "    def __init__(self):\n",
    "        super(Autoencoder, self).__init__()\n",
    "        # Encoder\n",
    "        self.encoder = nn.Sequential(\n",
    "            nn.Conv1d(1, 16, kernel_size=3, stride=2, padding=1), # Adjusted for 1 input channel\n",
    "            nn.ReLU(),\n",
    "            nn.Conv1d(16, 32, kernel_size=3, stride=2, padding=1),\n",
    "            nn.ReLU(),\n",
    "            nn.Conv1d(32, 64, kernel_size=3, stride=2, padding=1),\n",
    "            nn.ReLU()\n",
    "        )\n",
    "        # Decoder\n",
    "        self.decoder = nn.Sequential(\n",
    "            nn.ConvTranspose1d(64, 32, kernel_size=3, stride=2, padding=1, output_padding=1),\n",
    "            nn.ReLU(),\n",
    "            nn.ConvTranspose1d(32, 16, kernel_size=3, stride=2, padding=1, output_padding=1),\n",
    "            nn.ReLU(),\n",
    "            nn.ConvTranspose1d(16, 1, kernel_size=3, stride=2, padding=1, output_padding=1), # Adjusted for 1 output channel\n",
    "            nn.Sigmoid() # Assuming the input data is normalized between 0 and 1\n",
    "        )\n",
    "\n",
    "    def forward(self, x):\n",
    "        # x = self.encoder(x)\n",
    "        # x = self.decoder(x)\n",
    "        return self.decoder(self.encoder(x))\n",
    "\n",
    "\n",
    "def train_model(model, train_dataset, val_dataset, n_epochs):\n",
    "    best_loss = float('inf')\n",
    "    # best_model_wts = copy.deepcopy(model.state_dict())\n",
    "    history = {'train': [], 'val': []}\n",
    "    \n",
    "    optimizer = torch.optim.Adam(model.parameters(), lr=0.001)\n",
    "    loss_fn = nn.MSELoss()\n",
    "    loss_fn = nn.L1Loss(reduction='sum')\n",
    "    train_loss = 0\n",
    "\n",
    "    for epoch in range(1, n_epochs + 1):\n",
    "        model = model.train()\n",
    "        train_loss = []\n",
    "        for seq_true in train_dataset:\n",
    "            optimizer.zero_grad()\n",
    "            seq_pred = model(seq_true)\n",
    "            loss = loss_fn(seq_pred, seq_true)\n",
    "            loss.backward()\n",
    "            optimizer.step()\n",
    "            train_loss.append(loss.item())\n",
    "        # Eval loop \n",
    "        val_loss = []\n",
    "        model = model.eval()\n",
    "        with torch.no_grad():\n",
    "            for seq_true in val_dataset:\n",
    "                seq_pred = model(seq_true)\n",
    "                loss = loss_fn(seq_pred,seq_true)\n",
    "                val_loss.append(loss.item())\n",
    "            \n",
    "        avg_train_loss = sum(train_loss) / len(train_loss)\n",
    "        avg_val_loss = sum(val_loss) / len(val_loss)\n",
    "        history['train'].append(avg_train_loss)\n",
    "        history['val'].append(avg_val_loss)\n",
    "\n",
    "        if avg_val_loss < best_loss:\n",
    "            best_loss = avg_val_loss\n",
    "            # best_model_wts = copy.deepcopy(model.state_dict())\n",
    "\n",
    "        print(f'Epoch {epoch}: train loss {avg_train_loss} val loss {avg_val_loss}')\n",
    "        # model.load_state_dict(best_model_wts)\n",
    "    \n",
    "    return model, history\n",
    "    \n",
    "# Prepare DataLoaders\n",
    "dataset_tensor = dataset_tensor.view(560, 1, -1)  # Reshape tensor\n",
    "train_size = int(0.8 * len(dataset_tensor))\n",
    "val_size = len(dataset_tensor) - train_size\n",
    "train_dataset, val_dataset = random_split(dataset_tensor, [train_size, val_size])\n",
    "\n",
    "train_dataloader = DataLoader(train_dataset, batch_size=32, shuffle=True)\n",
    "val_dataloader = DataLoader(val_dataset, batch_size=32)\n",
    "\n",
    "\n",
    "model, history = train_model(Autoencoder() ,train_dataset, val_dataset, n_epochs=15)"
   ]
  },
  {
   "cell_type": "code",
   "execution_count": 5,
   "id": "a6118c1b-6c63-4084-89e9-10a06539935a",
   "metadata": {},
   "outputs": [
    {
     "data": {
      "image/png": "[encoded data removed]",
      "text/plain": [
       "<Figure size 640x480 with 1 Axes>"
      ]
     },
     "metadata": {},
     "output_type": "display_data"
    }
   ],
   "source": [
    "# This plot should help to choose the THRESHOLD\n",
    "ax = plt.figure().gca()\n",
    "ax.plot(history['train'])\n",
    "ax.plot(history['val'])\n",
    "plt.ylabel('Loss')\n",
    "plt.xlabel('Epoch')\n",
    "plt.legend(['train', 'test'])\n",
    "plt.title('Loss over training epochs')\n",
    "plt.show();"
   ]
  },
  {
   "cell_type": "code",
   "execution_count": 6,
   "id": "085d2839-7a27-4afc-b13b-b7f0ab661855",
   "metadata": {},
   "outputs": [
    {
     "data": {
      "text/html": [
       "<div>\n",
       "<style scoped>\n",
       "    .dataframe tbody tr th:only-of-type {\n",
       "        vertical-align: middle;\n",
       "    }\n",
       "\n",
       "    .dataframe tbody tr th {\n",
       "        vertical-align: top;\n",
       "    }\n",
       "\n",
       "    .dataframe thead th {\n",
       "        text-align: right;\n",
       "    }\n",
       "</style>\n",
       "<table border=\"1\" class=\"dataframe\">\n",
       "  <thead>\n",
       "    <tr style=\"text-align: right;\">\n",
       "      <th></th>\n",
       "      <th>Run_id</th>\n",
       "      <th>Condition</th>\n",
       "      <th>Loss</th>\n",
       "    </tr>\n",
       "  </thead>\n",
       "  <tbody>\n",
       "    <tr>\n",
       "      <th>0</th>\n",
       "      <td>1</td>\n",
       "      <td>[0.25040457, 0.734908, 0.95790565, 0.3375528, ...</td>\n",
       "      <td>3020.398438</td>\n",
       "    </tr>\n",
       "    <tr>\n",
       "      <th>1</th>\n",
       "      <td>2</td>\n",
       "      <td>[0.25338888, 0.6336545, 0.27607408, 0.2878816,...</td>\n",
       "      <td>3475.364746</td>\n",
       "    </tr>\n",
       "    <tr>\n",
       "      <th>2</th>\n",
       "      <td>3</td>\n",
       "      <td>[0.25768724, 0.71836257, 0.9571178, 0.34636393...</td>\n",
       "      <td>2135.639648</td>\n",
       "    </tr>\n",
       "    <tr>\n",
       "      <th>3</th>\n",
       "      <td>4</td>\n",
       "      <td>[0.32150313, 0.61006594, 0.9483655, 0.45850983...</td>\n",
       "      <td>2261.490967</td>\n",
       "    </tr>\n",
       "    <tr>\n",
       "      <th>4</th>\n",
       "      <td>5</td>\n",
       "      <td>[0.2776234, 0.6233317, 0.27586418, 0.36635566,...</td>\n",
       "      <td>1888.725098</td>\n",
       "    </tr>\n",
       "    <tr>\n",
       "      <th>...</th>\n",
       "      <td>...</td>\n",
       "      <td>...</td>\n",
       "      <td>...</td>\n",
       "    </tr>\n",
       "    <tr>\n",
       "      <th>555</th>\n",
       "      <td>556</td>\n",
       "      <td>[0.2297352, 0.6880291, 0.95589286, 0.27791315,...</td>\n",
       "      <td>2388.073730</td>\n",
       "    </tr>\n",
       "    <tr>\n",
       "      <th>556</th>\n",
       "      <td>557</td>\n",
       "      <td>[0.26312688, 0.7343303, 0.2701208, 0.37042102,...</td>\n",
       "      <td>3118.228760</td>\n",
       "    </tr>\n",
       "    <tr>\n",
       "      <th>557</th>\n",
       "      <td>558</td>\n",
       "      <td>[0.23589714, 0.6610354, 0.9520817, 0.305444, 0...</td>\n",
       "      <td>2136.425537</td>\n",
       "    </tr>\n",
       "    <tr>\n",
       "      <th>558</th>\n",
       "      <td>559</td>\n",
       "      <td>[0.22448881, 0.67442036, 0.25062075, 0.1975732...</td>\n",
       "      <td>3015.775635</td>\n",
       "    </tr>\n",
       "    <tr>\n",
       "      <th>559</th>\n",
       "      <td>560</td>\n",
       "      <td>[0.2683507, 0.5629252, 0.28325087, 0.33859634,...</td>\n",
       "      <td>2440.138672</td>\n",
       "    </tr>\n",
       "  </tbody>\n",
       "</table>\n",
       "<p>560 rows × 3 columns</p>\n",
       "</div>"
      ],
      "text/plain": [
       "     Run_id                                          Condition         Loss\n",
       "0         1  [0.25040457, 0.734908, 0.95790565, 0.3375528, ...  3020.398438\n",
       "1         2  [0.25338888, 0.6336545, 0.27607408, 0.2878816,...  3475.364746\n",
       "2         3  [0.25768724, 0.71836257, 0.9571178, 0.34636393...  2135.639648\n",
       "3         4  [0.32150313, 0.61006594, 0.9483655, 0.45850983...  2261.490967\n",
       "4         5  [0.2776234, 0.6233317, 0.27586418, 0.36635566,...  1888.725098\n",
       "..      ...                                                ...          ...\n",
       "555     556  [0.2297352, 0.6880291, 0.95589286, 0.27791315,...  2388.073730\n",
       "556     557  [0.26312688, 0.7343303, 0.2701208, 0.37042102,...  3118.228760\n",
       "557     558  [0.23589714, 0.6610354, 0.9520817, 0.305444, 0...  2136.425537\n",
       "558     559  [0.22448881, 0.67442036, 0.25062075, 0.1975732...  3015.775635\n",
       "559     560  [0.2683507, 0.5629252, 0.28325087, 0.33859634,...  2440.138672\n",
       "\n",
       "[560 rows x 3 columns]"
      ]
     },
     "execution_count": 6,
     "metadata": {},
     "output_type": "execute_result"
    }
   ],
   "source": [
    "def predict(model, dataset):\n",
    "  predictions, losses = [], []\n",
    "  criterion = nn.L1Loss(reduction='sum')\n",
    "  # criterion = nn.MSELoss()\n",
    "  with torch.no_grad():\n",
    "    model = model.eval()\n",
    "    for seq_true in dataset:\n",
    "      seq_true = seq_true\n",
    "      seq_pred = model(seq_true)\n",
    "      loss = criterion(seq_pred, seq_true)\n",
    "      predictions.append(seq_pred.cpu().numpy().flatten())\n",
    "      losses.append(loss.item())\n",
    "      result_df = pd.DataFrame({\n",
    "        'Run_id': range(1, len(predictions) + 1),\n",
    "        'Condition': predictions,\n",
    "        'Loss':losses,\n",
    "    })\n",
    "  return result_df , predictions, losses\n",
    "\n",
    "df_pred ,predictions, losses = predict(model , dataset_tensor)\n",
    "df_pred"
   ]
  },
  {
   "cell_type": "code",
   "execution_count": 9,
   "id": "d25022b8-6256-4c4f-ab04-ea1bcf3b1cba",
   "metadata": {},
   "outputs": [
    {
     "name": "stderr",
     "output_type": "stream",
     "text": [
      "C:\\Users\\yoavl\\AppData\\Local\\Temp\\ipykernel_20708\\2953814399.py:1: UserWarning: \n",
      "\n",
      "`distplot` is a deprecated function and will be removed in seaborn v0.14.0.\n",
      "\n",
      "Please adapt your code to use either `displot` (a figure-level function with\n",
      "similar flexibility) or `histplot` (an axes-level function for histograms).\n",
      "\n",
      "For a guide to updating your code to use the new functions, please see\n",
      "https://gist.github.com/mwaskom/de44147ed2974457ad6372750bbe5751\n",
      "\n",
      "  sns.distplot(losses, bins=50, kde=True);\n"
     ]
    },
    {
     "data": {
      "image/png": "[encoded data removed]",
      "text/plain": [
       "<Figure size 640x480 with 1 Axes>"
      ]
     },
     "metadata": {},
     "output_type": "display_data"
    }
   ],
   "source": [
    "sns.distplot(losses, bins=50, kde=True);"
   ]
  },
  {
   "cell_type": "code",
   "execution_count": 10,
   "id": "079f2644-be8c-450f-9ed0-e21a60a33078",
   "metadata": {},
   "outputs": [
    {
     "data": {
      "text/plain": [
       "555"
      ]
     },
     "execution_count": 10,
     "metadata": {},
     "output_type": "execute_result"
    }
   ],
   "source": [
    "THRESHOLD = 5000\n",
    "correct = sum(l <= THRESHOLD for l in losses)\n",
    "correct"
   ]
  },
  {
   "cell_type": "code",
   "execution_count": 14,
   "id": "c5445519-db41-4c25-a619-2cfdce4335ec",
   "metadata": {},
   "outputs": [
    {
     "data": {
      "text/plain": [
       "Index([160, 207, 282, 310, 431], dtype='int64')"
      ]
     },
     "execution_count": 14,
     "metadata": {},
     "output_type": "execute_result"
    }
   ],
   "source": [
    "\n",
    "anomaly = df_pred[df_pred['Loss'] >= THRESHOLD].index\n",
    "anomaly"
   ]
  },
  {
   "cell_type": "code",
   "execution_count": null,
   "id": "5b5826ef-207d-4ac6-beab-572cd888c70b",
   "metadata": {},
   "outputs": [],
   "source": [
    "result_df['Condition'].value_counts()"
   ]
  },
  {
   "cell_type": "code",
   "execution_count": null,
   "id": "0af2c596-2033-40d8-bfd2-49541b5ee73c",
   "metadata": {},
   "outputs": [],
   "source": [
    "anomaly = result_df[result_df['Condition'] == True].index\n",
    "anomaly_list = list(anomaly)\n",
    "len()"
   ]
  },
  {
   "cell_type": "code",
   "execution_count": null,
   "id": "e29c9712-8b6f-4abb-8be5-a3d75240d8d6",
   "metadata": {},
   "outputs": [],
   "source": [
    "def append_anomalies_to_csv(anomaly_list, file_name):\n",
    "    \"\"\"\n",
    "    Appends the given anomaly list to an existing CSV file, or creates a new one if it doesn't exist.\n",
    "    Also adds a column indicating the length of the anomaly list.\n",
    "    \n",
    "    :param anomaly_list: List of anomaly indices.\n",
    "    :param file_name: Name of the CSV file to append to or create.\n",
    "    \"\"\"\n",
    "    try:\n",
    "        existing_df = pd.read_csv(file_name)\n",
    "    except FileNotFoundError:\n",
    "        existing_df = pd.DataFrame(columns=['Index', 'Anomaly', 'Length'])\n",
    "    \n",
    "    # Create a new DataFrame from the anomaly list\n",
    "    new_data = pd.DataFrame({'Anomaly': [anomaly_list], 'Length': [len(anomaly_list)]})\n",
    "    new_data['Index'] = existing_df.shape[0] + 1\n",
    "\n",
    "    # Append the new data to the existing DataFrame\n",
    "    updated_df = pd.concat([existing_df, new_data], ignore_index=True)\n",
    "\n",
    "    # Save the updated DataFrame to the CSV file\n",
    "    updated_df.to_csv(file_name, index=False)\n",
    "\n",
    "append_anomalies_to_csv(anomaly_list,'anomaly.csv')\n",
    "\n",
    "df = pd.read_csv('anomaly.csv')\n",
    "df"
   ]
  },
  {
   "cell_type": "code",
   "execution_count": null,
   "id": "728d6bff-4c97-4123-abea-a2bb4b3fdbf4",
   "metadata": {},
   "outputs": [],
   "source": []
  },
  {
   "cell_type": "code",
   "execution_count": null,
   "id": "3681b80c-5be9-443d-be08-ce6c60fb0746",
   "metadata": {},
   "outputs": [],
   "source": [
    "# common_elements = list(set(a) & set(anomaly_list))\n",
    "# common_elements\n",
    "from collections import Counter\n",
    "from ast import literal_eval\n",
    "def plot_anomaly_frequency_sorted(df):\n",
    "    # Extracting all numbers from the 'Anomaly' lists and flattening them into a single list\n",
    "    all_anomalies = [num for sublist in df['Anomaly'].apply(literal_eval) for num in sublist]\n",
    "    anomaly_counts = Counter(all_anomalies)\n",
    "    # Sorting the counts\n",
    "    sorted_anomaly_counts = dict(sorted(anomaly_counts.items()))\n",
    "    plt.figure(figsize=(15, 6))\n",
    "    plt.scatter(sorted_anomaly_counts.keys(), sorted_anomaly_counts.values())\n",
    "    plt.xlabel('Anomaly Number')\n",
    "    plt.ylabel('Frequency')\n",
    "    plt.title('Sorted Frequency of Each Number in Anomaly Lists')\n",
    "    plt.show()\n",
    "\n",
    "plot_anomaly_frequency_sorted(df)"
   ]
  },
  {
   "cell_type": "code",
   "execution_count": null,
   "id": "ae19c5fe-90a3-48d8-8b0e-2b5129d23b7e",
   "metadata": {},
   "outputs": [],
   "source": [
    "from torchinfo import summary \n",
    "summary(model)"
   ]
  }
 ],
 "metadata": {
  "kernelspec": {
   "display_name": "Python 3 (ipykernel)",
   "language": "python",
   "name": "python3"
  },
  "language_info": {
   "codemirror_mode": {
    "name": "ipython",
    "version": 3
   },
   "file_extension": ".py",
   "mimetype": "text/x-python",
   "name": "python",
   "nbconvert_exporter": "python",
   "pygments_lexer": "ipython3",
   "version": "3.11.7"
  }
 },
 "nbformat": 4,
 "nbformat_minor": 5
}
