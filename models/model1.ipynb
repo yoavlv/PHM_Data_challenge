{
 "cells": [
  {
   "cell_type": "code",
   "execution_count": 1,
   "id": "dbf81ce9-f2e5-46bd-a74e-1d61f361f9cb",
   "metadata": {},
   "outputs": [
    {
     "name": "stderr",
     "output_type": "stream",
     "text": [
      "C:\\Users\\yoavl\\AppData\\Local\\Programs\\Python\\Python311\\Lib\\site-packages\\tqdm\\auto.py:21: TqdmWarning: IProgress not found. Please update jupyter and ipywidgets. See https://ipywidgets.readthedocs.io/en/stable/user_install.html\n",
      "  from .autonotebook import tqdm as notebook_tqdm\n"
     ]
    }
   ],
   "source": [
    "import csv\n",
    "import pandas as pd\n",
    "import matplotlib.pyplot as plt\n",
    "import numpy as np\n",
    "import os\n",
    "from sklearn.model_selection import train_test_split\n",
    "import seaborn as sns \n",
    "from sklearn.preprocessing import StandardScaler\n",
    "from sklearn.decomposition import PCA\n",
    "import matplotlib.pyplot as plt\n",
    "import torch\n",
    "from torch.utils.data import TensorDataset, DataLoader ,random_split\n",
    "import torch.nn as nn\n",
    "import torch.optim as optim\n",
    "from tqdm.auto import tqdm\n",
    "from sklearn.preprocessing import MinMaxScaler\n",
    "import copy"
   ]
  },
  {
   "cell_type": "code",
   "execution_count": 2,
   "id": "87cb2f86-5ae2-49c2-94dc-979e8e04c10b",
   "metadata": {},
   "outputs": [],
   "source": [
    "def create_torch_dataset():\n",
    "    all_data = []\n",
    "    scaler = MinMaxScaler()\n",
    "    columns = ['Input Voltage', 'Output Voltage', 'Tachometer']\n",
    "    num_rows = 122824\n",
    "    for i in range(1, 561):\n",
    "        temp_df = pd.read_csv(f'../PHM09_competition_1/Run_{i}.csv', names=columns, nrows=num_rows)\n",
    "        normalized_data = scaler.fit_transform(temp_df)\n",
    "        temp_tensor = torch.tensor(normalized_data, dtype=torch.float32)\n",
    "        temp_tensor = temp_tensor.unsqueeze(dim=0)  # Adding a channel dimension\n",
    "        all_data.append(temp_tensor)\n",
    "    \n",
    "    all_data_tensor = torch.stack(all_data, dim=0)\n",
    "    return all_data_tensor\n",
    "\n",
    "dataset_tensor = create_torch_dataset()"
   ]
  },
  {
   "cell_type": "code",
   "execution_count": 1,
   "id": "f8cfcfb6-5a00-4724-90a9-9ed0ae9a6799",
   "metadata": {},
   "outputs": [
    {
     "ename": "NameError",
     "evalue": "name 'dataset_tensor' is not defined",
     "output_type": "error",
     "traceback": [
      "\u001b[1;31m---------------------------------------------------------------------------\u001b[0m",
      "\u001b[1;31mNameError\u001b[0m                                 Traceback (most recent call last)",
      "Cell \u001b[1;32mIn[1], line 1\u001b[0m\n\u001b[1;32m----> 1\u001b[0m \u001b[43mdataset_tensor\u001b[49m[\u001b[38;5;241m1\u001b[39m]\n",
      "\u001b[1;31mNameError\u001b[0m: name 'dataset_tensor' is not defined"
     ]
    }
   ],
   "source": [
    "dataset_tensor.shape"
   ]
  },
  {
   "cell_type": "code",
   "execution_count": 4,
   "id": "b0f4b582-d0d6-4b67-8358-600c1e13984d",
   "metadata": {},
   "outputs": [
    {
     "name": "stdout",
     "output_type": "stream",
     "text": [
      "Epoch 1: train loss 17660.48530796596 val loss 9912.795802525112\n",
      "Epoch 2: train loss 6923.673199244908 val loss 6153.022042410715\n",
      "Epoch 3: train loss 5619.690032958984 val loss 4775.739573887417\n",
      "Epoch 4: train loss 4771.330739702497 val loss 4319.860185895647\n",
      "Epoch 5: train loss 4345.154462541853 val loss 3486.9065922328405\n",
      "Epoch 6: train loss 3928.34058707101 val loss 3229.3734021868027\n",
      "Epoch 7: train loss 3546.5933113098145 val loss 3147.642065865653\n",
      "Epoch 8: train loss 3503.889991215297 val loss 2884.8042907714844\n",
      "Epoch 9: train loss 3209.7018307277135 val loss 2773.355917794364\n",
      "Epoch 10: train loss 3193.958552496774 val loss 2922.8924277169363\n",
      "Epoch 11: train loss 3100.7745483943395 val loss 2898.585242135184\n",
      "Epoch 12: train loss 3079.1585409981863 val loss 2575.106427873884\n",
      "Epoch 13: train loss 2925.199037824358 val loss 2532.692002432687\n",
      "Epoch 14: train loss 2965.555034364973 val loss 2524.137814113072\n",
      "Epoch 15: train loss 2902.238085065569 val loss 2861.123480660575\n",
      "Epoch 16: train loss 2828.642213548933 val loss 2395.4261049543106\n",
      "Epoch 17: train loss 2778.888194492885 val loss 2361.172411237444\n",
      "Epoch 18: train loss 2732.92191696167 val loss 2434.9906757899694\n",
      "Epoch 19: train loss 2732.2145407540456 val loss 2720.2755998883927\n",
      "Epoch 20: train loss 2747.133289337158 val loss 2373.2026018415177\n",
      "Epoch 21: train loss 2669.3069703238352 val loss 2598.7862439836777\n",
      "Epoch 22: train loss 2713.4587587629044 val loss 2277.0615822928294\n",
      "Epoch 23: train loss 2663.6497917175293 val loss 2270.0366919381277\n",
      "Epoch 24: train loss 2666.376884460449 val loss 2329.824471609933\n",
      "Epoch 25: train loss 2582.893730163574 val loss 2643.637387956892\n",
      "Epoch 26: train loss 2553.654881613595 val loss 2090.840997968401\n",
      "Epoch 27: train loss 2508.5814181736537 val loss 2094.4477637154714\n",
      "Epoch 28: train loss 2515.6653515951975 val loss 2206.684886387416\n",
      "Epoch 29: train loss 2436.673283168248 val loss 2148.7327771868027\n",
      "Epoch 30: train loss 2479.0161538805282 val loss 2143.863637651716\n",
      "Epoch 31: train loss 2463.900646209717 val loss 2096.6469323294505\n",
      "Epoch 32: train loss 2382.962225505284 val loss 2089.0314505440847\n",
      "Epoch 33: train loss 2399.2238971165248 val loss 2008.1137248447963\n",
      "Epoch 34: train loss 2369.499991280692 val loss 2006.6943261282784\n",
      "Epoch 35: train loss 2308.850908551897 val loss 2088.941360473633\n",
      "Epoch 36: train loss 2367.2722083500453 val loss 2504.695114135742\n",
      "Epoch 37: train loss 2328.569252559117 val loss 1997.0632923671178\n",
      "Epoch 38: train loss 2274.451337269374 val loss 2132.120656694685\n",
      "Epoch 39: train loss 2333.4258621760778 val loss 1907.5516455514091\n",
      "Epoch 40: train loss 2208.87246458871 val loss 1946.514365059989\n",
      "Epoch 41: train loss 2198.829319545201 val loss 1846.4181551252093\n",
      "Epoch 42: train loss 2232.8606714521134 val loss 2211.0550809587753\n",
      "Epoch 43: train loss 2183.5561746869766 val loss 1823.9488045828682\n",
      "Epoch 44: train loss 2131.232608250209 val loss 1810.1500069754463\n",
      "Epoch 45: train loss 2257.900315420968 val loss 2026.876462663923\n",
      "Epoch 46: train loss 2128.1899100712367 val loss 1819.003059387207\n",
      "Epoch 47: train loss 2132.258982249669 val loss 1764.4176722935267\n",
      "Epoch 48: train loss 2127.6147864205495 val loss 1717.8960277012416\n",
      "Epoch 49: train loss 2076.7840758732386 val loss 1854.397210257394\n",
      "Epoch 50: train loss 2023.7154121398926 val loss 1664.1816002982002\n",
      "Epoch 51: train loss 2083.4970408848353 val loss 1785.0780094691686\n",
      "Epoch 52: train loss 2057.7026053837367 val loss 1793.9368416922432\n",
      "Epoch 53: train loss 2055.273889541626 val loss 1926.8026896885463\n",
      "Epoch 54: train loss 2029.426178250994 val loss 1745.5691179547991\n",
      "Epoch 55: train loss 2032.4509658813477 val loss 1785.2413439069476\n",
      "Epoch 56: train loss 1990.8461960383825 val loss 1570.099725995745\n",
      "Epoch 57: train loss 1982.017560141427 val loss 1659.9945831298828\n",
      "Epoch 58: train loss 2049.2672323499405 val loss 1851.3945138113838\n",
      "Epoch 59: train loss 1944.5019939967565 val loss 1627.5970306396484\n",
      "Epoch 60: train loss 1958.610380445208 val loss 1578.1270991734095\n",
      "Epoch 61: train loss 1916.8602763584681 val loss 1611.778199332101\n",
      "Epoch 62: train loss 1903.768951688494 val loss 1561.5977183750697\n",
      "Epoch 63: train loss 1964.8991582053047 val loss 1511.047972542899\n",
      "Epoch 64: train loss 1923.0404276166644 val loss 1608.1318991524834\n",
      "Epoch 65: train loss 1912.4336795806885 val loss 1826.5950175694056\n",
      "Epoch 66: train loss 1865.2175312042236 val loss 1749.832623073033\n",
      "Epoch 67: train loss 1868.810231889997 val loss 1727.1381465366908\n",
      "Epoch 68: train loss 1885.5250959396362 val loss 1471.1136365618024\n",
      "Epoch 69: train loss 1833.2181309291295 val loss 1485.4812109810966\n",
      "Epoch 70: train loss 1875.0435047149658 val loss 1741.150425502232\n",
      "Epoch 71: train loss 1882.029269354684 val loss 1549.4562181745257\n",
      "Epoch 72: train loss 1811.9379828316826 val loss 1635.4617789132255\n",
      "Epoch 73: train loss 1811.09751864842 val loss 1487.9264842442103\n",
      "Epoch 74: train loss 1851.2497084481377 val loss 1622.2576610020228\n",
      "Epoch 75: train loss 1787.1825092860631 val loss 1476.44526890346\n",
      "Epoch 76: train loss 1767.882617677961 val loss 1339.640611921038\n",
      "Epoch 77: train loss 1779.664274896894 val loss 1371.6004006522041\n",
      "Epoch 78: train loss 1743.547127859933 val loss 1685.0781893048968\n",
      "Epoch 79: train loss 1743.6355957303729 val loss 1909.5544335501534\n",
      "Epoch 80: train loss 1676.2979640960693 val loss 1341.5231682913643\n",
      "Epoch 81: train loss 1752.3496281760079 val loss 1611.349475315639\n",
      "Epoch 82: train loss 1667.1595930371966 val loss 1547.974605015346\n",
      "Epoch 83: train loss 1735.8449818747383 val loss 1501.8313707624163\n",
      "Epoch 84: train loss 1717.1986890520368 val loss 1453.730345589774\n",
      "Epoch 85: train loss 1655.846577508109 val loss 1347.6373999459404\n",
      "Epoch 86: train loss 1696.0603981018066 val loss 1494.52662222726\n",
      "Epoch 87: train loss 1626.907610620771 val loss 1223.9679216657366\n",
      "Epoch 88: train loss 1605.0141274588448 val loss 1444.9989689418248\n",
      "Epoch 89: train loss 1666.8680182865687 val loss 1848.7039685930524\n",
      "Epoch 90: train loss 1684.5181198120117 val loss 1271.9716764177595\n",
      "Epoch 91: train loss 1614.9608429500036 val loss 1317.0382461547852\n",
      "Epoch 92: train loss 1560.633850642613 val loss 1277.0202407836914\n",
      "Epoch 93: train loss 1639.586237498692 val loss 1327.1521312168666\n",
      "Epoch 94: train loss 1607.1521331242152 val loss 1395.2228622436523\n",
      "Epoch 95: train loss 1557.4703633444649 val loss 1332.7397842407227\n",
      "Epoch 96: train loss 1574.017497062683 val loss 1247.4583271571569\n",
      "Epoch 97: train loss 1646.0751194272723 val loss 1302.8932593209404\n",
      "Epoch 98: train loss 1532.7960124697004 val loss 1705.08799634661\n",
      "Epoch 99: train loss 1557.1175763266426 val loss 1400.0759015764509\n",
      "Epoch 100: train loss 1561.409008026123 val loss 1364.5134048461914\n",
      "Entire model saved successfully.\n",
      "CPU times: total: 11h 54min 57s\n",
      "Wall time: 3h 37min 50s\n"
     ]
    }
   ],
   "source": [
    "%%time\n",
    "\n",
    "class Autoencoder(nn.Module):\n",
    "    def __init__(self):\n",
    "        super(Autoencoder, self).__init__()\n",
    "        # Encoder\n",
    "        self.encoder = nn.Sequential(\n",
    "            nn.Conv1d(1, 16, kernel_size=3, stride=2, padding=1), # Adjusted for 1 input channel\n",
    "            nn.ReLU(),\n",
    "            nn.Conv1d(16, 32, kernel_size=3, stride=2, padding=1),\n",
    "            nn.ReLU(),\n",
    "            nn.Conv1d(32, 64, kernel_size=3, stride=2, padding=1),\n",
    "            nn.ReLU()\n",
    "        )\n",
    "        # Decoder\n",
    "        self.decoder = nn.Sequential(\n",
    "            nn.ConvTranspose1d(64, 32, kernel_size=3, stride=2, padding=1, output_padding=1),\n",
    "            nn.ReLU(),\n",
    "            nn.ConvTranspose1d(32, 16, kernel_size=3, stride=2, padding=1, output_padding=1),\n",
    "            nn.ReLU(),\n",
    "            nn.ConvTranspose1d(16, 1, kernel_size=3, stride=2, padding=1, output_padding=1), \n",
    "            nn.Sigmoid() # Assuming the input data is normalized between 0 and 1\n",
    "        )\n",
    "\n",
    "    def forward(self, x):\n",
    "        return self.decoder(self.encoder(x))\n",
    "\n",
    "\n",
    "def train_model(model, train_dataset, val_dataset, n_epochs):\n",
    "    best_loss = float('inf')\n",
    "    # best_model_wts = copy.deepcopy(model.state_dict())\n",
    "    history = {'train': [], 'val': []}\n",
    "    \n",
    "    optimizer = torch.optim.Adam(model.parameters(), lr=0.001)\n",
    "    # loss_fn = nn.MSELoss()\n",
    "    loss_fn = nn.L1Loss(reduction='sum')\n",
    "    train_loss = 0\n",
    "\n",
    "    for epoch in range(1, n_epochs + 1):\n",
    "        model = model.train()\n",
    "        train_loss = []\n",
    "        for seq_true in train_dataset:\n",
    "            optimizer.zero_grad()\n",
    "            seq_pred = model(seq_true)\n",
    "            loss = loss_fn(seq_pred, seq_true)\n",
    "            loss.backward()\n",
    "            optimizer.step()\n",
    "            train_loss.append(loss.item())\n",
    "        # Eval loop \n",
    "        val_loss = []\n",
    "        model = model.eval()\n",
    "        with torch.no_grad():\n",
    "            for seq_true in val_dataset:\n",
    "                seq_pred = model(seq_true)\n",
    "                loss = loss_fn(seq_pred,seq_true)\n",
    "                val_loss.append(loss.item())\n",
    "            \n",
    "        avg_train_loss = sum(train_loss) / len(train_loss)\n",
    "        avg_val_loss = sum(val_loss) / len(val_loss)\n",
    "        history['train'].append(avg_train_loss)\n",
    "        history['val'].append(avg_val_loss)\n",
    "\n",
    "        if avg_val_loss < best_loss:\n",
    "            best_loss = avg_val_loss\n",
    "            # best_model_wts = copy.deepcopy(model.state_dict())\n",
    "\n",
    "        print(f'Epoch {epoch}: train loss {avg_train_loss} val loss {avg_val_loss}')\n",
    "        # model.load_state_dict(best_model_wts)\n",
    "    \n",
    "    return model, history\n",
    "    \n",
    "# Prepare DataLoaders\n",
    "dataset_tensor = dataset_tensor.view(560, 1, -1)  # Reshape tensor\n",
    "train_size = int(0.8 * len(dataset_tensor))\n",
    "val_size = len(dataset_tensor) - train_size\n",
    "train_dataset, val_dataset = random_split(dataset_tensor, [train_size, val_size])\n",
    "\n",
    "train_dataloader = DataLoader(train_dataset, batch_size=32, shuffle=True)\n",
    "val_dataloader = DataLoader(val_dataset, batch_size=32)\n",
    "\n",
    "\n",
    "model, history = train_model(Autoencoder() ,train_dataset, val_dataset, n_epochs=100)\n",
    "\n",
    "torch.save(model, f'model_{n_epochs}.pth')\n",
    "print(\"Entire model saved successfully.\")"
   ]
  },
  {
   "cell_type": "code",
   "execution_count": 5,
   "id": "a6118c1b-6c63-4084-89e9-10a06539935a",
   "metadata": {},
   "outputs": [
    {
     "data": {
      "image/png": "[encoded data removed]",
      "text/plain": [
       "<Figure size 640x480 with 1 Axes>"
      ]
     },
     "metadata": {},
     "output_type": "display_data"
    }
   ],
   "source": [
    "# This plot should help to choose the THRESHOLD\n",
    "ax = plt.figure().gca()\n",
    "ax.plot(history['train'])\n",
    "ax.plot(history['val'])\n",
    "plt.ylabel('Loss')\n",
    "plt.xlabel('Epoch')\n",
    "plt.legend(['train', 'test'])\n",
    "plt.title('Loss over training epochs')\n",
    "plt.show();"
   ]
  },
  {
   "cell_type": "code",
   "execution_count": 6,
   "id": "085d2839-7a27-4afc-b13b-b7f0ab661855",
   "metadata": {},
   "outputs": [
    {
     "data": {
      "text/html": [
       "<div>\n",
       "<style scoped>\n",
       "    .dataframe tbody tr th:only-of-type {\n",
       "        vertical-align: middle;\n",
       "    }\n",
       "\n",
       "    .dataframe tbody tr th {\n",
       "        vertical-align: top;\n",
       "    }\n",
       "\n",
       "    .dataframe thead th {\n",
       "        text-align: right;\n",
       "    }\n",
       "</style>\n",
       "<table border=\"1\" class=\"dataframe\">\n",
       "  <thead>\n",
       "    <tr style=\"text-align: right;\">\n",
       "      <th></th>\n",
       "      <th>Run_id</th>\n",
       "      <th>Loss</th>\n",
       "    </tr>\n",
       "  </thead>\n",
       "  <tbody>\n",
       "    <tr>\n",
       "      <th>0</th>\n",
       "      <td>1</td>\n",
       "      <td>1384.327271</td>\n",
       "    </tr>\n",
       "    <tr>\n",
       "      <th>1</th>\n",
       "      <td>2</td>\n",
       "      <td>1901.274902</td>\n",
       "    </tr>\n",
       "    <tr>\n",
       "      <th>2</th>\n",
       "      <td>3</td>\n",
       "      <td>1358.674438</td>\n",
       "    </tr>\n",
       "    <tr>\n",
       "      <th>3</th>\n",
       "      <td>4</td>\n",
       "      <td>1251.692383</td>\n",
       "    </tr>\n",
       "    <tr>\n",
       "      <th>4</th>\n",
       "      <td>5</td>\n",
       "      <td>1227.716675</td>\n",
       "    </tr>\n",
       "    <tr>\n",
       "      <th>...</th>\n",
       "      <td>...</td>\n",
       "      <td>...</td>\n",
       "    </tr>\n",
       "    <tr>\n",
       "      <th>555</th>\n",
       "      <td>556</td>\n",
       "      <td>1279.874512</td>\n",
       "    </tr>\n",
       "    <tr>\n",
       "      <th>556</th>\n",
       "      <td>557</td>\n",
       "      <td>1750.851685</td>\n",
       "    </tr>\n",
       "    <tr>\n",
       "      <th>557</th>\n",
       "      <td>558</td>\n",
       "      <td>1235.595703</td>\n",
       "    </tr>\n",
       "    <tr>\n",
       "      <th>558</th>\n",
       "      <td>559</td>\n",
       "      <td>1378.001587</td>\n",
       "    </tr>\n",
       "    <tr>\n",
       "      <th>559</th>\n",
       "      <td>560</td>\n",
       "      <td>1284.764038</td>\n",
       "    </tr>\n",
       "  </tbody>\n",
       "</table>\n",
       "<p>560 rows × 2 columns</p>\n",
       "</div>"
      ],
      "text/plain": [
       "     Run_id         Loss\n",
       "0         1  1384.327271\n",
       "1         2  1901.274902\n",
       "2         3  1358.674438\n",
       "3         4  1251.692383\n",
       "4         5  1227.716675\n",
       "..      ...          ...\n",
       "555     556  1279.874512\n",
       "556     557  1750.851685\n",
       "557     558  1235.595703\n",
       "558     559  1378.001587\n",
       "559     560  1284.764038\n",
       "\n",
       "[560 rows x 2 columns]"
      ]
     },
     "execution_count": 6,
     "metadata": {},
     "output_type": "execute_result"
    }
   ],
   "source": [
    "def predict(model, dataset):\n",
    "  predictions, losses = [], []\n",
    "  criterion = nn.L1Loss(reduction='sum')\n",
    "  # criterion = nn.MSELoss()\n",
    "  with torch.no_grad():\n",
    "    model = model.eval()\n",
    "    for seq_true in dataset:\n",
    "      seq_true = seq_true\n",
    "      seq_pred = model(seq_true)\n",
    "      loss = criterion(seq_pred, seq_true)\n",
    "      predictions.append(seq_pred.cpu().numpy().flatten())\n",
    "      losses.append(loss.item())\n",
    "      result_df = pd.DataFrame({\n",
    "        'Run_id': range(1, len(predictions) + 1),\n",
    "        'Loss':losses,\n",
    "    })\n",
    "  return result_df , predictions, losses\n",
    "\n",
    "df_pred ,predictions, losses = predict(model , dataset_tensor)\n",
    "df_pred"
   ]
  },
  {
   "cell_type": "code",
   "execution_count": 7,
   "id": "d25022b8-6256-4c4f-ab04-ea1bcf3b1cba",
   "metadata": {},
   "outputs": [
    {
     "name": "stderr",
     "output_type": "stream",
     "text": [
      "C:\\Users\\yoavl\\AppData\\Local\\Temp\\ipykernel_17312\\1360621379.py:1: UserWarning: \n",
      "\n",
      "`distplot` is a deprecated function and will be removed in seaborn v0.14.0.\n",
      "\n",
      "Please adapt your code to use either `displot` (a figure-level function with\n",
      "similar flexibility) or `histplot` (an axes-level function for histograms).\n",
      "\n",
      "For a guide to updating your code to use the new functions, please see\n",
      "https://gist.github.com/mwaskom/de44147ed2974457ad6372750bbe5751\n",
      "\n",
      "  sns.distplot(losses, bins=50, kde=True);\n"
     ]
    },
    {
     "data": {
      "image/png": "[encoded data removed]",
      "text/plain": [
       "<Figure size 640x480 with 1 Axes>"
      ]
     },
     "metadata": {},
     "output_type": "display_data"
    }
   ],
   "source": [
    "sns.distplot(losses, bins=50, kde=True);"
   ]
  },
  {
   "cell_type": "code",
   "execution_count": 15,
   "id": "079f2644-be8c-450f-9ed0-e21a60a33078",
   "metadata": {},
   "outputs": [
    {
     "data": {
      "text/plain": [
       "547"
      ]
     },
     "execution_count": 15,
     "metadata": {},
     "output_type": "execute_result"
    }
   ],
   "source": [
    "THRESHOLD = 2300\n",
    "correct = sum(l <= THRESHOLD for l in losses)\n",
    "correct"
   ]
  },
  {
   "cell_type": "code",
   "execution_count": 16,
   "id": "c5445519-db41-4c25-a619-2cfdce4335ec",
   "metadata": {},
   "outputs": [],
   "source": [
    "anomaly = df_pred[df_pred['Loss'] >= THRESHOLD].index\n",
    "anomaly_list = list(anomaly)"
   ]
  },
  {
   "cell_type": "code",
   "execution_count": 17,
   "id": "e29c9712-8b6f-4abb-8be5-a3d75240d8d6",
   "metadata": {},
   "outputs": [
    {
     "data": {
      "text/html": [
       "<div>\n",
       "<style scoped>\n",
       "    .dataframe tbody tr th:only-of-type {\n",
       "        vertical-align: middle;\n",
       "    }\n",
       "\n",
       "    .dataframe tbody tr th {\n",
       "        vertical-align: top;\n",
       "    }\n",
       "\n",
       "    .dataframe thead th {\n",
       "        text-align: right;\n",
       "    }\n",
       "</style>\n",
       "<table border=\"1\" class=\"dataframe\">\n",
       "  <thead>\n",
       "    <tr style=\"text-align: right;\">\n",
       "      <th></th>\n",
       "      <th>Index</th>\n",
       "      <th>Anomaly</th>\n",
       "      <th>Length</th>\n",
       "    </tr>\n",
       "  </thead>\n",
       "  <tbody>\n",
       "    <tr>\n",
       "      <th>0</th>\n",
       "      <td>1</td>\n",
       "      <td>[0, 6, 7, 8, 18, 26, 35, 36, 55, 57, 62, 65, 6...</td>\n",
       "      <td>76</td>\n",
       "    </tr>\n",
       "    <tr>\n",
       "      <th>1</th>\n",
       "      <td>2</td>\n",
       "      <td>[21, 26, 53, 68, 79, 80, 82, 88, 94, 115, 125,...</td>\n",
       "      <td>63</td>\n",
       "    </tr>\n",
       "    <tr>\n",
       "      <th>2</th>\n",
       "      <td>3</td>\n",
       "      <td>[0, 1, 36, 53, 57, 67, 68, 82, 84, 88, 101, 10...</td>\n",
       "      <td>54</td>\n",
       "    </tr>\n",
       "    <tr>\n",
       "      <th>3</th>\n",
       "      <td>4</td>\n",
       "      <td>[53, 68, 82, 88, 160, 162, 196, 207, 222, 282,...</td>\n",
       "      <td>17</td>\n",
       "    </tr>\n",
       "    <tr>\n",
       "      <th>4</th>\n",
       "      <td>5</td>\n",
       "      <td>[207, 431]</td>\n",
       "      <td>2</td>\n",
       "    </tr>\n",
       "    <tr>\n",
       "      <th>5</th>\n",
       "      <td>6</td>\n",
       "      <td>[53, 68, 82, 160, 162, 207, 282, 310, 354, 396...</td>\n",
       "      <td>13</td>\n",
       "    </tr>\n",
       "  </tbody>\n",
       "</table>\n",
       "</div>"
      ],
      "text/plain": [
       "   Index                                            Anomaly  Length\n",
       "0      1  [0, 6, 7, 8, 18, 26, 35, 36, 55, 57, 62, 65, 6...      76\n",
       "1      2  [21, 26, 53, 68, 79, 80, 82, 88, 94, 115, 125,...      63\n",
       "2      3  [0, 1, 36, 53, 57, 67, 68, 82, 84, 88, 101, 10...      54\n",
       "3      4  [53, 68, 82, 88, 160, 162, 196, 207, 222, 282,...      17\n",
       "4      5                                         [207, 431]       2\n",
       "5      6  [53, 68, 82, 160, 162, 207, 282, 310, 354, 396...      13"
      ]
     },
     "execution_count": 17,
     "metadata": {},
     "output_type": "execute_result"
    }
   ],
   "source": [
    "def append_anomalies_to_csv(anomaly_list, file_name):\n",
    "    \"\"\"\n",
    "    Appends the given anomaly list to an existing CSV file, or creates a new one if it doesn't exist.\n",
    "    Also adds a column indicating the length of the anomaly list.\n",
    "    \n",
    "    :param anomaly_list: List of anomaly indices.\n",
    "    :param file_name: Name of the CSV file to append to or create.\n",
    "    \"\"\"\n",
    "    try:\n",
    "        existing_df = pd.read_csv(file_name)\n",
    "    except FileNotFoundError:\n",
    "        existing_df = pd.DataFrame(columns=['Index', 'Anomaly', 'Length'])\n",
    "    \n",
    "    # Create a new DataFrame from the anomaly list\n",
    "    new_data = pd.DataFrame({'Anomaly': [anomaly_list], 'Length': [len(anomaly_list)]})\n",
    "    new_data['Index'] = existing_df.shape[0] + 1\n",
    "\n",
    "    # Append the new data to the existing DataFrame\n",
    "    updated_df = pd.concat([existing_df, new_data], ignore_index=True)\n",
    "\n",
    "    # Save the updated DataFrame to the CSV file\n",
    "    updated_df.to_csv(file_name, index=False)\n",
    "\n",
    "append_anomalies_to_csv(anomaly_list,'anomaly.csv')\n",
    "\n",
    "df = pd.read_csv('anomaly.csv')\n",
    "df"
   ]
  },
  {
   "cell_type": "code",
   "execution_count": 14,
   "id": "728d6bff-4c97-4123-abea-a2bb4b3fdbf4",
   "metadata": {},
   "outputs": [
    {
     "data": {
      "text/plain": [
       "'[53, 68, 82, 88, 160, 162, 196, 207, 222, 282, 310, 354, 396, 431, 468, 472, 505]'"
      ]
     },
     "execution_count": 14,
     "metadata": {},
     "output_type": "execute_result"
    }
   ],
   "source": [
    "df.Anomaly[3]"
   ]
  },
  {
   "cell_type": "code",
   "execution_count": 11,
   "id": "3681b80c-5be9-443d-be08-ce6c60fb0746",
   "metadata": {},
   "outputs": [
    {
     "data": {
      "image/png": "[encoded data removed]",
      "text/plain": [
       "<Figure size 1500x600 with 1 Axes>"
      ]
     },
     "metadata": {},
     "output_type": "display_data"
    }
   ],
   "source": [
    "# common_elements = list(set(a) & set(anomaly_list))\n",
    "# common_elements\n",
    "from collections import Counter\n",
    "from ast import literal_eval\n",
    "def plot_anomaly_frequency_sorted(df):\n",
    "    # Extracting all numbers from the 'Anomaly' lists and flattening them into a single list\n",
    "    all_anomalies = [num for sublist in df['Anomaly'].apply(literal_eval) for num in sublist]\n",
    "    anomaly_counts = Counter(all_anomalies)\n",
    "    # Sorting the counts\n",
    "    sorted_anomaly_counts = dict(sorted(anomaly_counts.items()))\n",
    "    plt.figure(figsize=(15, 6))\n",
    "    plt.scatter(sorted_anomaly_counts.keys(), sorted_anomaly_counts.values())\n",
    "    plt.xlabel('Anomaly Number')\n",
    "    plt.ylabel('Frequency')\n",
    "    plt.title('Sorted Frequency of Each Number in Anomaly Lists')\n",
    "    plt.show()\n",
    "\n",
    "plot_anomaly_frequency_sorted(df)"
   ]
  },
  {
   "cell_type": "code",
   "execution_count": 12,
   "id": "ae19c5fe-90a3-48d8-8b0e-2b5129d23b7e",
   "metadata": {},
   "outputs": [
    {
     "ename": "ModuleNotFoundError",
     "evalue": "No module named 'torchinfo'",
     "output_type": "error",
     "traceback": [
      "\u001b[1;31m---------------------------------------------------------------------------\u001b[0m",
      "\u001b[1;31mModuleNotFoundError\u001b[0m                       Traceback (most recent call last)",
      "Cell \u001b[1;32mIn[12], line 1\u001b[0m\n\u001b[1;32m----> 1\u001b[0m \u001b[38;5;28;01mfrom\u001b[39;00m \u001b[38;5;21;01mtorchinfo\u001b[39;00m \u001b[38;5;28;01mimport\u001b[39;00m summary \n\u001b[0;32m      2\u001b[0m summary(model)\n",
      "\u001b[1;31mModuleNotFoundError\u001b[0m: No module named 'torchinfo'"
     ]
    }
   ],
   "source": [
    "from torchinfo import summary \n",
    "summary(model)"
   ]
  }
 ],
 "metadata": {
  "kernelspec": {
   "display_name": "Python 3 (ipykernel)",
   "language": "python",
   "name": "python3"
  },
  "language_info": {
   "codemirror_mode": {
    "name": "ipython",
    "version": 3
   },
   "file_extension": ".py",
   "mimetype": "text/x-python",
   "name": "python",
   "nbconvert_exporter": "python",
   "pygments_lexer": "ipython3",
   "version": "3.11.7"
  }
 },
 "nbformat": 4,
 "nbformat_minor": 5
}
