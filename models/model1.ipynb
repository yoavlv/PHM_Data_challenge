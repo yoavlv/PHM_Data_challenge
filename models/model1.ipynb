{
 "cells": [
  {
   "cell_type": "code",
   "execution_count": 1,
   "id": "dbf81ce9-f2e5-46bd-a74e-1d61f361f9cb",
   "metadata": {},
   "outputs": [
    {
     "name": "stderr",
     "output_type": "stream",
     "text": [
      "C:\\Users\\yoavl\\AppData\\Local\\Programs\\Python\\Python311\\Lib\\site-packages\\tqdm\\auto.py:21: TqdmWarning: IProgress not found. Please update jupyter and ipywidgets. See https://ipywidgets.readthedocs.io/en/stable/user_install.html\n",
      "  from .autonotebook import tqdm as notebook_tqdm\n"
     ]
    }
   ],
   "source": [
    "import csv\n",
    "import pandas as pd\n",
    "import matplotlib.pyplot as plt\n",
    "import numpy as np\n",
    "import os\n",
    "from sklearn.model_selection import train_test_split\n",
    "import seaborn as sns \n",
    "from sklearn.preprocessing import StandardScaler\n",
    "from sklearn.decomposition import PCA\n",
    "import matplotlib.pyplot as plt\n",
    "import torch\n",
    "from torch.utils.data import TensorDataset, DataLoader ,random_split\n",
    "import torch.nn as nn\n",
    "import torch.optim as optim\n",
    "from tqdm.auto import tqdm\n",
    "from sklearn.preprocessing import MinMaxScaler\n"
   ]
  },
  {
   "cell_type": "code",
   "execution_count": 2,
   "id": "87cb2f86-5ae2-49c2-94dc-979e8e04c10b",
   "metadata": {},
   "outputs": [],
   "source": [
    "def create_torch_dataset():\n",
    "    all_data = []\n",
    "    scaler = MinMaxScaler()\n",
    "    columns = ['Input Voltage', 'Output Voltage', 'Tachometer']\n",
    "    num_rows = 122824\n",
    "    for i in range(1, 561):\n",
    "        temp_df = pd.read_csv(f'../PHM09_competition_1/Run_{i}.csv', names=columns, nrows=num_rows)\n",
    "        normalized_data = scaler.fit_transform(temp_df)\n",
    "        temp_tensor = torch.tensor(normalized_data, dtype=torch.float32)\n",
    "        temp_tensor = temp_tensor.unsqueeze(dim=0)  # Adding a channel dimension\n",
    "        all_data.append(temp_tensor)\n",
    "    \n",
    "    all_data_tensor = torch.stack(all_data, dim=0)\n",
    "    return all_data_tensor\n",
    "\n",
    "tensor_t = create_torch_dataset()"
   ]
  },
  {
   "cell_type": "code",
   "execution_count": 3,
   "id": "f8cfcfb6-5a00-4724-90a9-9ed0ae9a6799",
   "metadata": {},
   "outputs": [
    {
     "data": {
      "text/plain": [
       "torch.Size([560, 1, 122824, 3])"
      ]
     },
     "execution_count": 3,
     "metadata": {},
     "output_type": "execute_result"
    }
   ],
   "source": [
    "tensor_t.shape"
   ]
  },
  {
   "cell_type": "code",
   "execution_count": 4,
   "id": "b0f4b582-d0d6-4b67-8358-600c1e13984d",
   "metadata": {},
   "outputs": [
    {
     "name": "stderr",
     "output_type": "stream",
     "text": [
      "Training Epochs:   0%|                                                                           | 0/3 [00:00<?, ?it/s]"
     ]
    },
    {
     "name": "stdout",
     "output_type": "stream",
     "text": [
      "Epoch: 1\n",
      "---------\n"
     ]
    },
    {
     "name": "stderr",
     "output_type": "stream",
     "text": [
      "Training Epochs:  33%|██████████████████████                                            | 1/3 [03:15<06:30, 195.02s/it]"
     ]
    },
    {
     "name": "stdout",
     "output_type": "stream",
     "text": [
      "Train loss: 0.07175\n",
      "Epoch: 2\n",
      "---------\n"
     ]
    },
    {
     "name": "stderr",
     "output_type": "stream",
     "text": [
      "Training Epochs:  67%|████████████████████████████████████████████                      | 2/3 [05:26<02:37, 157.63s/it]"
     ]
    },
    {
     "name": "stdout",
     "output_type": "stream",
     "text": [
      "Train loss: 0.06435\n",
      "Epoch: 3\n",
      "---------\n"
     ]
    },
    {
     "name": "stderr",
     "output_type": "stream",
     "text": [
      "Training Epochs: 100%|██████████████████████████████████████████████████████████████████| 3/3 [07:45<00:00, 155.04s/it]"
     ]
    },
    {
     "name": "stdout",
     "output_type": "stream",
     "text": [
      "Train loss: 0.04714\n"
     ]
    },
    {
     "name": "stderr",
     "output_type": "stream",
     "text": [
      "\n"
     ]
    }
   ],
   "source": [
    "class Autoencoder(nn.Module):\n",
    "    def __init__(self):\n",
    "        super(Autoencoder, self).__init__()\n",
    "        # Encoder\n",
    "        self.encoder = nn.Sequential(\n",
    "            nn.Conv1d(1, 16, kernel_size=3, stride=2, padding=1), # Adjusted for 1 input channel\n",
    "            nn.ReLU(),\n",
    "            nn.Conv1d(16, 32, kernel_size=3, stride=2, padding=1),\n",
    "            nn.ReLU(),\n",
    "            nn.Conv1d(32, 64, kernel_size=3, stride=2, padding=1),\n",
    "            nn.ReLU()\n",
    "        )\n",
    "        # Decoder\n",
    "        self.decoder = nn.Sequential(\n",
    "            nn.ConvTranspose1d(64, 32, kernel_size=3, stride=2, padding=1, output_padding=1),\n",
    "            nn.ReLU(),\n",
    "            nn.ConvTranspose1d(32, 16, kernel_size=3, stride=2, padding=1, output_padding=1),\n",
    "            nn.ReLU(),\n",
    "            nn.ConvTranspose1d(16, 1, kernel_size=3, stride=2, padding=1, output_padding=1), # Adjusted for 1 output channel\n",
    "            nn.Sigmoid() # Assuming the input data is normalized between 0 and 1\n",
    "        )\n",
    "\n",
    "    def forward(self, x):\n",
    "        x = self.encoder(x)\n",
    "        x = self.decoder(x)\n",
    "        return x\n",
    "\n",
    "\n",
    "# Assuming you have a model, optimizer, and loss function defined\n",
    "model = Autoencoder()\n",
    "optimizer = torch.optim.Adam(model.parameters(), lr=0.001)\n",
    "loss_fn = nn.MSELoss()\n",
    "\n",
    "def train_step(model, data, loss_fn, optim):\n",
    "    train_loss = 0\n",
    "    model.train()\n",
    "    for X in data:\n",
    "        y_pred = model(X)\n",
    "        loss = loss_fn(y_pred, X)\n",
    "        train_loss += loss.item()\n",
    "        optim.zero_grad()\n",
    "        loss.backward()\n",
    "        optim.step()\n",
    "\n",
    "    train_loss /= len(data)\n",
    "    print(f\"Train loss: {train_loss:.5f}\")\n",
    "\n",
    "\n",
    "\n",
    "# Prepare DataLoaders\n",
    "tensor_t = tensor_t.view(560, 1, -1)  # Reshape tensor\n",
    "train_size = int(0.8 * len(tensor_t))\n",
    "val_size = len(tensor_t) - train_size\n",
    "train_dataset, val_dataset = random_split(tensor_t, [train_size, val_size])\n",
    "\n",
    "train_dataloader = DataLoader(train_dataset, batch_size=32, shuffle=True)\n",
    "val_dataloader = DataLoader(val_dataset, batch_size=32)\n",
    "\n",
    "# Initialize the Autoencoder model\n",
    "model = Autoencoder()\n",
    "optimizer = torch.optim.Adam(model.parameters(), lr=0.001)\n",
    "loss_fn = nn.MSELoss()\n",
    "\n",
    "# Training loop\n",
    "epochs = 3\n",
    "\n",
    "for epoch in tqdm(range(epochs), desc=\"Training Epochs\"):\n",
    "    print(f\"Epoch: {epoch + 1}\\n---------\")\n",
    "    train_step(model=model, data=train_dataloader, loss_fn=loss_fn, optim=optimizer)\n",
    "\n",
    "# # After training, you can use the model to compute reconstruction errors\n",
    "# # and set a threshold for classifying data points as normal or anomalies\n",
    "# # This is part of your post-training analysis"
   ]
  },
  {
   "cell_type": "code",
   "execution_count": 5,
   "id": "33b31c09-24da-49f4-984a-0e72de366ca8",
   "metadata": {},
   "outputs": [
    {
     "name": "stdout",
     "output_type": "stream",
     "text": [
      "0.1599484086036682\n"
     ]
    },
    {
     "data": {
      "text/html": [
       "<div>\n",
       "<style scoped>\n",
       "    .dataframe tbody tr th:only-of-type {\n",
       "        vertical-align: middle;\n",
       "    }\n",
       "\n",
       "    .dataframe tbody tr th {\n",
       "        vertical-align: top;\n",
       "    }\n",
       "\n",
       "    .dataframe thead th {\n",
       "        text-align: right;\n",
       "    }\n",
       "</style>\n",
       "<table border=\"1\" class=\"dataframe\">\n",
       "  <thead>\n",
       "    <tr style=\"text-align: right;\">\n",
       "      <th></th>\n",
       "      <th>Run_id</th>\n",
       "      <th>Condition</th>\n",
       "    </tr>\n",
       "  </thead>\n",
       "  <tbody>\n",
       "    <tr>\n",
       "      <th>0</th>\n",
       "      <td>1</td>\n",
       "      <td>False</td>\n",
       "    </tr>\n",
       "    <tr>\n",
       "      <th>1</th>\n",
       "      <td>2</td>\n",
       "      <td>False</td>\n",
       "    </tr>\n",
       "    <tr>\n",
       "      <th>2</th>\n",
       "      <td>3</td>\n",
       "      <td>False</td>\n",
       "    </tr>\n",
       "    <tr>\n",
       "      <th>3</th>\n",
       "      <td>4</td>\n",
       "      <td>False</td>\n",
       "    </tr>\n",
       "    <tr>\n",
       "      <th>4</th>\n",
       "      <td>5</td>\n",
       "      <td>False</td>\n",
       "    </tr>\n",
       "    <tr>\n",
       "      <th>...</th>\n",
       "      <td>...</td>\n",
       "      <td>...</td>\n",
       "    </tr>\n",
       "    <tr>\n",
       "      <th>555</th>\n",
       "      <td>556</td>\n",
       "      <td>False</td>\n",
       "    </tr>\n",
       "    <tr>\n",
       "      <th>556</th>\n",
       "      <td>557</td>\n",
       "      <td>False</td>\n",
       "    </tr>\n",
       "    <tr>\n",
       "      <th>557</th>\n",
       "      <td>558</td>\n",
       "      <td>False</td>\n",
       "    </tr>\n",
       "    <tr>\n",
       "      <th>558</th>\n",
       "      <td>559</td>\n",
       "      <td>False</td>\n",
       "    </tr>\n",
       "    <tr>\n",
       "      <th>559</th>\n",
       "      <td>560</td>\n",
       "      <td>False</td>\n",
       "    </tr>\n",
       "  </tbody>\n",
       "</table>\n",
       "<p>560 rows × 2 columns</p>\n",
       "</div>"
      ],
      "text/plain": [
       "     Run_id  Condition\n",
       "0         1      False\n",
       "1         2      False\n",
       "2         3      False\n",
       "3         4      False\n",
       "4         5      False\n",
       "..      ...        ...\n",
       "555     556      False\n",
       "556     557      False\n",
       "557     558      False\n",
       "558     559      False\n",
       "559     560      False\n",
       "\n",
       "[560 rows x 2 columns]"
      ]
     },
     "execution_count": 5,
     "metadata": {},
     "output_type": "execute_result"
    }
   ],
   "source": [
    "def calculate_threshold(model, data_loader):\n",
    "    model.eval()\n",
    "    errors = []\n",
    "    with torch.no_grad():\n",
    "        for X in data_loader:\n",
    "            reconstructed = model(X)\n",
    "            error = torch.mean(torch.abs(X - reconstructed), dim=[1, 2])\n",
    "            errors.extend(error.tolist())\n",
    "\n",
    "    errors = torch.tensor(errors)\n",
    "    threshold = errors.mean() + errors.std()\n",
    "    print(threshold.item())\n",
    "    return threshold.item()\n",
    "\n",
    "def eval_model(model, data_loader, threshold):\n",
    "    model.eval()\n",
    "    run_conditions = []\n",
    "    with torch.no_grad():\n",
    "        for X in data_loader:  # Directly use the data without unpacking\n",
    "            # If X is a list or tuple, get the first element as the data tensor\n",
    "            if isinstance(X, (list, tuple)):\n",
    "                X = X[0]\n",
    "\n",
    "            reconstructed = model(X)\n",
    "            error = torch.mean(torch.abs(X - reconstructed), dim=[1, 2])\n",
    "            condition = (error > threshold).int()\n",
    "            # Assuming each batch corresponds to one run\n",
    "            run_condition = condition.any().item()  # 1 if any sample in the run is an anomaly\n",
    "            run_conditions.append(run_condition)\n",
    "\n",
    "    # Create DataFrame with run_id and condition\n",
    "    result_df = pd.DataFrame({\n",
    "        'Run_id': range(1, len(run_conditions) + 1),\n",
    "        'Condition': run_conditions\n",
    "    })\n",
    "\n",
    "    return result_df\n",
    "\n",
    "    \n",
    "# data_loader = train_dataloader\n",
    "full_data_loader = DataLoader(TensorDataset(tensor_t), batch_size=1)\n",
    "\n",
    "# Compute the threshold\n",
    "threshold = calculate_threshold(model, val_dataloader)\n",
    "\n",
    "# Evaluate the model\n",
    "result_df = eval_model(model, full_data_loader, threshold)\n",
    "result_df"
   ]
  },
  {
   "cell_type": "code",
   "execution_count": 6,
   "id": "5b5826ef-207d-4ac6-beab-572cd888c70b",
   "metadata": {},
   "outputs": [
    {
     "data": {
      "text/plain": [
       "Condition\n",
       "False    452\n",
       "True     108\n",
       "Name: count, dtype: int64"
      ]
     },
     "execution_count": 6,
     "metadata": {},
     "output_type": "execute_result"
    }
   ],
   "source": [
    "result_df['Condition'].value_counts()"
   ]
  },
  {
   "cell_type": "code",
   "execution_count": 7,
   "id": "0af2c596-2033-40d8-bfd2-49541b5ee73c",
   "metadata": {},
   "outputs": [
    {
     "data": {
      "text/plain": [
       "560"
      ]
     },
     "execution_count": 7,
     "metadata": {},
     "output_type": "execute_result"
    }
   ],
   "source": [
    "len(result_df)"
   ]
  },
  {
   "cell_type": "code",
   "execution_count": 8,
   "id": "728d6bff-4c97-4123-abea-a2bb4b3fdbf4",
   "metadata": {},
   "outputs": [
    {
     "data": {
      "text/plain": [
       "torch.Size([560, 1, 368472])"
      ]
     },
     "execution_count": 8,
     "metadata": {},
     "output_type": "execute_result"
    }
   ],
   "source": [
    "tensor_t.shape"
   ]
  }
 ],
 "metadata": {
  "kernelspec": {
   "display_name": "Python 3 (ipykernel)",
   "language": "python",
   "name": "python3"
  },
  "language_info": {
   "codemirror_mode": {
    "name": "ipython",
    "version": 3
   },
   "file_extension": ".py",
   "mimetype": "text/x-python",
   "name": "python",
   "nbconvert_exporter": "python",
   "pygments_lexer": "ipython3",
   "version": "3.11.7"
  }
 },
 "nbformat": 4,
 "nbformat_minor": 5
}
