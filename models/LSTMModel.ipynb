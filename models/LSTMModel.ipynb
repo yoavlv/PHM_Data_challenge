{
 "cells": [
  {
   "cell_type": "code",
   "execution_count": 1,
   "id": "3d955acc-fcea-4474-9e49-68751afbbdd2",
   "metadata": {},
   "outputs": [
    {
     "name": "stderr",
     "output_type": "stream",
     "text": [
      "C:\\Users\\yoavl\\AppData\\Local\\Programs\\Python\\Python311\\Lib\\site-packages\\tqdm\\auto.py:21: TqdmWarning: IProgress not found. Please update jupyter and ipywidgets. See https://ipywidgets.readthedocs.io/en/stable/user_install.html\n",
      "  from .autonotebook import tqdm as notebook_tqdm\n"
     ]
    }
   ],
   "source": [
    "import csv\n",
    "import pandas as pd\n",
    "import matplotlib.pyplot as plt\n",
    "import numpy as np\n",
    "import os\n",
    "from sklearn.model_selection import train_test_split\n",
    "import seaborn as sns \n",
    "from sklearn.preprocessing import StandardScaler\n",
    "from sklearn.decomposition import PCA\n",
    "import matplotlib.pyplot as plt\n",
    "import torch\n",
    "from torch.utils.data import TensorDataset, DataLoader ,random_split , Dataset\n",
    "import torch.nn as nn\n",
    "import torch.optim as optim\n",
    "from tqdm.auto import tqdm\n",
    "from sklearn.preprocessing import MinMaxScaler\n",
    "import copy\n",
    "from torch.optim.lr_scheduler import StepLR"
   ]
  },
  {
   "cell_type": "code",
   "execution_count": 2,
   "id": "797a2cad-699e-4436-a62e-ac40fdc0acd7",
   "metadata": {},
   "outputs": [],
   "source": [
    "def create_torch_dataset(size = False):\n",
    "    if not size:\n",
    "        size = 561\n",
    "    all_data = []\n",
    "    scaler = MinMaxScaler()\n",
    "    columns = ['Input Voltage', 'Output Voltage', 'Tachometer']\n",
    "    num_rows = 122824\n",
    "    for i in range(1, size):\n",
    "        temp_df = pd.read_csv(f'../PHM09_competition_1/Run_{i}.csv', names=columns, nrows=num_rows)\n",
    "        normalized_data = scaler.fit_transform(temp_df)\n",
    "        temp_tensor = torch.tensor(normalized_data, dtype=torch.float32)\n",
    "        # temp_tensor = temp_tensor.unsqueeze(dim=0)  # Adding a channel dimension\n",
    "        all_data.append(temp_tensor)\n",
    "    \n",
    "    all_data_tensor = torch.stack(all_data, dim=0)\n",
    "    return all_data_tensor\n",
    "\n",
    "dataset_tensor = create_torch_dataset()"
   ]
  },
  {
   "cell_type": "code",
   "execution_count": 3,
   "id": "85f0d6e6-0c5a-4d0c-83e0-4da0b57ce6c2",
   "metadata": {},
   "outputs": [
    {
     "data": {
      "text/plain": [
       "torch.Size([560, 122824, 3])"
      ]
     },
     "execution_count": 3,
     "metadata": {},
     "output_type": "execute_result"
    }
   ],
   "source": [
    "dataset_tensor.shape"
   ]
  },
  {
   "cell_type": "code",
   "execution_count": 4,
   "id": "f5daba36-49b1-4ba6-b919-a920597150fa",
   "metadata": {},
   "outputs": [],
   "source": [
    "class Encoder(nn.Module):\n",
    "    def __init__(self, input_size, hidden_size, num_layers):\n",
    "        super(Encoder, self).__init__()\n",
    "        self.hidden_size = hidden_size\n",
    "        self.num_layers = num_layers\n",
    "        self.lstm = nn.LSTM(input_size, hidden_size, num_layers, batch_first=True)\n",
    "\n",
    "    def forward(self, x):\n",
    "        outputs, hidden = self.lstm(x)\n",
    "        return hidden  # Return the hidden state for the decoder to use\n",
    "\n",
    "class Decoder(nn.Module):\n",
    "    def __init__(self, input_size, hidden_size, num_layers, output_size):\n",
    "        super(Decoder, self).__init__()\n",
    "        self.hidden_size = hidden_size\n",
    "        self.num_layers = num_layers\n",
    "        self.lstm = nn.LSTM(input_size, hidden_size, num_layers, batch_first=True)\n",
    "        self.linear = nn.Linear(hidden_size, output_size)\n",
    "\n",
    "    def forward(self, x, hidden):\n",
    "        output, hidden = self.lstm(x, hidden)\n",
    "        return self.linear(output)\n",
    "\n",
    "class GearboxFaultDetectionLSTM(nn.Module):\n",
    "    def __init__(self, input_size, hidden_size, num_layers):\n",
    "        super(GearboxFaultDetectionLSTM, self).__init__()\n",
    "        self.encoder = Encoder(input_size, hidden_size, num_layers)\n",
    "        self.decoder = Decoder(input_size, hidden_size, num_layers, input_size)\n",
    "\n",
    "    def forward(self, x):\n",
    "        # Decoder takes the input sequence again and the hidden state from the encoder\n",
    "        return self.decoder(x, self.encoder(x))"
   ]
  },
  {
   "cell_type": "code",
   "execution_count": 5,
   "id": "d1872748-c024-4202-b426-3c23c3d63991",
   "metadata": {},
   "outputs": [],
   "source": [
    "def save_model(model, optimizer, epoch, loss, file_path='model_checkpoint.pth'):\n",
    "    file_path = f\"{file_path}_{epoch}\"\n",
    "    torch.save({\n",
    "        'epoch': epoch,  \n",
    "        'model_state_dict': model.state_dict(),\n",
    "        'optimizer_state_dict': optimizer.state_dict(),\n",
    "        'loss': loss,\n",
    "    }, file_path)\n",
    "    print(\"Model saved successfully\")\n",
    "\n",
    "def load_model(model, optimizer, file_path='model_checkpoint.pth'):\n",
    "    checkpoint = torch.load(file_path)\n",
    "    model.load_state_dict(checkpoint['model_state_dict'])\n",
    "    optimizer.load_state_dict(checkpoint['optimizer_state_dict'])\n",
    "    epoch = checkpoint['epoch']\n",
    "    loss = checkpoint['loss']\n",
    "    print(\"Model loaded successfully\")\n",
    "    return model, optimizer, epoch, loss"
   ]
  },
  {
   "cell_type": "code",
   "execution_count": 6,
   "id": "040feef0-21d8-4fd5-b143-6e53d6e5a896",
   "metadata": {},
   "outputs": [
    {
     "name": "stdout",
     "output_type": "stream",
     "text": [
      "torch.Size([66640, 1024, 3])\n",
      "Epoch 1: train loss 2560.536018252516 val loss 1071.803792610443\n",
      "Epoch 2: train loss 649.8410225051935 val loss 596.1699893503167\n",
      "Epoch 3: train loss 509.2245987872688 val loss 474.34077673164205\n",
      "Epoch 4: train loss 460.2879175962377 val loss 439.2054951985677\n",
      "Epoch 5: train loss 370.072434012057 val loss 263.4286733942924\n",
      "Epoch 6: train loss 295.2884033221443 val loss 234.76539919187698\n",
      "Epoch 7: train loss 264.4282722152582 val loss 237.17204581061713\n",
      "Epoch 8: train loss 67.77384837678358 val loss 61.70542374389063\n",
      "Epoch 9: train loss 57.59019895647468 val loss 53.564955082442836\n",
      "Epoch 10: train loss 50.99654271422314 val loss 49.56987165547103\n",
      "Epoch 11: train loss 46.22427600343116 val loss 44.88265394306869\n",
      "Epoch 12: train loss 42.805066522000644 val loss 42.34090855367464\n",
      "Epoch 13: train loss 40.200498713737204 val loss 39.62858558673081\n",
      "Epoch 14: train loss 38.143845155173274 val loss 37.886371951023165\n",
      "Epoch 15: train loss 36.17754209685583 val loss 36.05655414938069\n",
      "Epoch 16: train loss 35.99174026567109 val loss 35.8293928013717\n",
      "Epoch 17: train loss 35.71953795823444 val loss 35.5545690751476\n",
      "Epoch 18: train loss 35.404542995100265 val loss 35.25258909998466\n",
      "Epoch 19: train loss 35.08979970925137 val loss 34.93448899632735\n",
      "Epoch 20: train loss 34.78290883690512 val loss 34.626495233256755\n",
      "Epoch 21: train loss 34.48405040498255 val loss 34.32491730157134\n",
      "Epoch 22: train loss 34.30837836271288 val loss 34.25651850345895\n",
      "Epoch 23: train loss 34.28795639921923 val loss 34.234008372830544\n",
      "Epoch 24: train loss 34.26425606291406 val loss 34.20945758499402\n",
      "Epoch 25: train loss 34.23970411948654 val loss 34.18483838417547\n",
      "Epoch 26: train loss 34.21508471705332 val loss 34.16024340714196\n",
      "Epoch 27: train loss 34.190517775866454 val loss 34.13576573433636\n",
      "Epoch 28: train loss 34.16601564560761 val loss 34.11133625753206\n",
      "Epoch 29: train loss 34.15186979561722 val loss 34.108907759046666\n",
      "Epoch 30: train loss 34.15140910337524 val loss 34.108474392970976\n",
      "Model saved successfully\n",
      "CPU times: total: 21h 42min 56s\n",
      "Wall time: 6h 54min 30s\n"
     ]
    }
   ],
   "source": [
    "%%time \n",
    "def preprocess_data(data, subsequence_length):\n",
    "    # data is of shape [batch_size, sequence_length, feature_size]\n",
    "    batch_size, sequence_length, feature_size = data.shape\n",
    "\n",
    "    # Determine the number of subsequences we can get from each sequence\n",
    "    num_subsequences_per_sequence = sequence_length // subsequence_length\n",
    "\n",
    "    # Calculate new shape\n",
    "    new_batch_size = batch_size * num_subsequences_per_sequence\n",
    "    new_sequence_length = subsequence_length\n",
    "\n",
    "    # Reshape data\n",
    "    reshaped_data = data.unfold(1, new_sequence_length, new_sequence_length)\n",
    "    reshaped_data = reshaped_data.contiguous().view(new_batch_size, new_sequence_length, feature_size)\n",
    "    print(reshaped_data.shape)\n",
    "    return reshaped_data\n",
    "\n",
    "def train_model(model, train_dataset, val_dataset, **params):\n",
    "    n_epochs = params['n_epochs']\n",
    "    step_size = params['step_size']\n",
    "    gamma = params['gamma']\n",
    "    patience = params['patience']\n",
    "    \n",
    "    best_loss = float('inf')\n",
    "    patience_counter = 0\n",
    "    history = {'train': [], 'val': []}\n",
    "    \n",
    "    optimizer = torch.optim.Adam(model.parameters(), lr=0.001)\n",
    "    scheduler = StepLR(optimizer, step_size=step_size, gamma=gamma)\n",
    "    \n",
    "    loss_fn = nn.L1Loss(reduction='sum')\n",
    "\n",
    "    for epoch in range(1, n_epochs + 1):\n",
    "        model.train()\n",
    "        train_loss = []\n",
    "        for seq_true in train_dataset:\n",
    "            optimizer.zero_grad()\n",
    "            seq_pred = model(seq_true)\n",
    "            loss = loss_fn(seq_pred, seq_true)\n",
    "            loss.backward()\n",
    "            optimizer.step()\n",
    "            train_loss.append(loss.item())\n",
    "\n",
    "        scheduler.step()\n",
    "        # Eval loop \n",
    "        val_loss = []\n",
    "        model.eval()\n",
    "        with torch.no_grad():\n",
    "            for seq_true in val_dataset:\n",
    "                seq_pred = model(seq_true)\n",
    "                loss = loss_fn(seq_pred, seq_true)\n",
    "                val_loss.append(loss.item())\n",
    "            \n",
    "        avg_train_loss = sum(train_loss) / len(train_loss)\n",
    "        avg_val_loss = sum(val_loss) / len(val_loss)\n",
    "        history['train'].append(avg_train_loss)\n",
    "        history['val'].append(avg_val_loss)\n",
    "\n",
    "        print(f'Epoch {epoch}: train loss {avg_train_loss} val loss {avg_val_loss}')\n",
    "\n",
    "        # Early stopping check\n",
    "        if avg_val_loss < best_loss:\n",
    "            best_loss = avg_val_loss\n",
    "            patience_counter = 0  # reset counter if performance improved\n",
    "            # Save the best model state if required\n",
    "            # best_model_wts = copy.deepcopy(model.state_dict())\n",
    "        else:\n",
    "            patience_counter += 1\n",
    "            if patience_counter >= patience:\n",
    "                print(f'Early stopping triggered after {epoch} epochs.')\n",
    "                break  # stop training if patience limit is reached\n",
    "\n",
    "    # model.load_state_dict(best_model_wts)  # Load the best model state if saved earlier\n",
    "    final_loss = best_loss  # The best recorded loss\n",
    "    return model, optimizer, history, final_loss\n",
    "    \n",
    "subsequence_length = 1024\n",
    "preprocessed_dataset_tensor = preprocess_data(dataset_tensor, subsequence_length)\n",
    "\n",
    "\n",
    "\n",
    "# Prepare DataLoaders\n",
    "train_size = int(0.8 * len(preprocessed_dataset_tensor))\n",
    "val_size = len(preprocessed_dataset_tensor) - train_size\n",
    "train_dataset, val_dataset = random_split(preprocessed_dataset_tensor, [train_size, val_size])\n",
    "\n",
    "train_dataloader = DataLoader(train_dataset, batch_size=32, shuffle=False ,num_workers=os.cpu_count() )\n",
    "val_dataloader = DataLoader(val_dataset, batch_size=32 ,num_workers=os.cpu_count())\n",
    "\n",
    "\n",
    "hyper_params = {\n",
    "    'patience': 3,\n",
    "    'step_size': 7,  # Adjust learning rate every X epochs\n",
    "    'gamma': 0.05,  # Reduce learning rate to X% of previous\n",
    "    'n_epochs': 30,\n",
    "    'input_size': 3,  # As there are 3 features in each timestep\n",
    "    'hidden_size': 32,  # Tune this based on the complexity of the data\n",
    "    'num_layers': 2   # Number of LSTM layers\n",
    "}\n",
    "\n",
    "model = GearboxFaultDetectionLSTM(hyper_params['input_size'],hyper_params['hidden_size'],hyper_params['num_layers'])\n",
    "\n",
    "model, optimizer, history, final_loss = train_model(model, train_dataloader, val_dataloader, **hyper_params)\n",
    "\n",
    "save_model(model, optimizer, hyper_params['n_epochs'], final_loss)"
   ]
  },
  {
   "cell_type": "code",
   "execution_count": 8,
   "id": "987c48ab-4ab6-4448-aabb-0ee8416dc25f",
   "metadata": {},
   "outputs": [
    {
     "data": {
      "image/png": "[encoded data removed]",
      "text/plain": [
       "<Figure size 640x480 with 1 Axes>"
      ]
     },
     "metadata": {},
     "output_type": "display_data"
    }
   ],
   "source": [
    "# This plot should help to choose the THRESHOLD\n",
    "\n",
    "def threshold_plot():\n",
    "    ax = plt.figure().gca()\n",
    "    ax.plot(history['train'])\n",
    "    ax.plot(history['val'])\n",
    "    plt.ylabel('Loss')\n",
    "    plt.xlabel('Epoch')\n",
    "    plt.legend(['train', 'test'])\n",
    "    plt.title('Loss over training epochs')\n",
    "    plt.savefig(f'../img/loss_plot_{hyper_params[\"n_epochs\"]}.png')\n",
    "    plt.show();\n",
    "    \n",
    "threshold_plot()"
   ]
  },
  {
   "cell_type": "code",
   "execution_count": 9,
   "id": "bdd9f6c3-2547-498c-a120-ca84989cc584",
   "metadata": {},
   "outputs": [],
   "source": [
    "def predict(model, dataset):\n",
    "  predictions, losses = [], []\n",
    "  criterion = nn.L1Loss(reduction='sum')\n",
    "  # criterion = nn.MSELoss()\n",
    "  with torch.no_grad():\n",
    "    model = model.eval()\n",
    "    for seq_true in dataset:\n",
    "      seq_true = seq_true\n",
    "      seq_pred = model(seq_true)\n",
    "      loss = criterion(seq_pred, seq_true)\n",
    "      predictions.append(seq_pred.cpu().numpy().flatten())\n",
    "      losses.append(loss.item())\n",
    "      result_df = pd.DataFrame({\n",
    "        'Run_id': range(1, len(predictions) + 1),\n",
    "        'Loss':losses,\n",
    "    })\n",
    "  return result_df , predictions, losses\n",
    "\n",
    "df_pred ,predictions, losses = predict(model , dataset_tensor)"
   ]
  },
  {
   "cell_type": "code",
   "execution_count": 10,
   "id": "a867065c-985f-43e5-8fd2-5d6e0fd831a7",
   "metadata": {},
   "outputs": [
    {
     "data": {
      "image/png": "[encoded data removed]",
      "text/plain": [
       "<Figure size 640x480 with 1 Axes>"
      ]
     },
     "metadata": {},
     "output_type": "display_data"
    }
   ],
   "source": [
    "sns.histplot(losses, bins=50, kde=True) #distplot\n",
    "plt.savefig(f'../img/threshold_plot_{hyper_params[\"n_epochs\"]}.png')"
   ]
  },
  {
   "cell_type": "code",
   "execution_count": 14,
   "id": "a6c56041-06aa-488c-b602-78369607865b",
   "metadata": {},
   "outputs": [
    {
     "data": {
      "text/plain": [
       "547"
      ]
     },
     "execution_count": 14,
     "metadata": {},
     "output_type": "execute_result"
    }
   ],
   "source": [
    "THRESHOLD = 8900\n",
    "correct = sum(l <= THRESHOLD for l in losses)\n",
    "correct"
   ]
  },
  {
   "cell_type": "code",
   "execution_count": 15,
   "id": "06b6ca29-1fd7-4da6-9fda-c61d460bcb34",
   "metadata": {},
   "outputs": [
    {
     "data": {
      "text/plain": [
       "[78, 99, 125, 139, 179, 201, 236, 357, 396, 431, 537, 546, 553]"
      ]
     },
     "execution_count": 15,
     "metadata": {},
     "output_type": "execute_result"
    }
   ],
   "source": [
    "anomaly = df_pred[df_pred['Loss'] >= THRESHOLD].index\n",
    "anomaly_list = list(anomaly)\n",
    "anomaly_list"
   ]
  },
  {
   "cell_type": "code",
   "execution_count": 16,
   "id": "f4821331-ecb7-4dd3-bc8c-91bb4b12497f",
   "metadata": {},
   "outputs": [
    {
     "data": {
      "text/html": [
       "<div>\n",
       "<style scoped>\n",
       "    .dataframe tbody tr th:only-of-type {\n",
       "        vertical-align: middle;\n",
       "    }\n",
       "\n",
       "    .dataframe tbody tr th {\n",
       "        vertical-align: top;\n",
       "    }\n",
       "\n",
       "    .dataframe thead th {\n",
       "        text-align: right;\n",
       "    }\n",
       "</style>\n",
       "<table border=\"1\" class=\"dataframe\">\n",
       "  <thead>\n",
       "    <tr style=\"text-align: right;\">\n",
       "      <th></th>\n",
       "      <th>Index</th>\n",
       "      <th>Anomaly</th>\n",
       "      <th>Length</th>\n",
       "    </tr>\n",
       "  </thead>\n",
       "  <tbody>\n",
       "    <tr>\n",
       "      <th>0</th>\n",
       "      <td>1</td>\n",
       "      <td>[0, 6, 7, 8, 18, 26, 35, 36, 55, 57, 62, 65, 6...</td>\n",
       "      <td>76</td>\n",
       "    </tr>\n",
       "    <tr>\n",
       "      <th>1</th>\n",
       "      <td>2</td>\n",
       "      <td>[21, 26, 53, 68, 79, 80, 82, 88, 94, 115, 125,...</td>\n",
       "      <td>63</td>\n",
       "    </tr>\n",
       "    <tr>\n",
       "      <th>2</th>\n",
       "      <td>3</td>\n",
       "      <td>[0, 1, 36, 53, 57, 67, 68, 82, 84, 88, 101, 10...</td>\n",
       "      <td>54</td>\n",
       "    </tr>\n",
       "    <tr>\n",
       "      <th>3</th>\n",
       "      <td>4</td>\n",
       "      <td>[53, 68, 82, 88, 160, 162, 196, 207, 222, 282,...</td>\n",
       "      <td>17</td>\n",
       "    </tr>\n",
       "    <tr>\n",
       "      <th>4</th>\n",
       "      <td>5</td>\n",
       "      <td>[207, 431]</td>\n",
       "      <td>2</td>\n",
       "    </tr>\n",
       "    <tr>\n",
       "      <th>5</th>\n",
       "      <td>6</td>\n",
       "      <td>[53, 68, 82, 160, 162, 207, 282, 310, 354, 396...</td>\n",
       "      <td>13</td>\n",
       "    </tr>\n",
       "    <tr>\n",
       "      <th>6</th>\n",
       "      <td>7</td>\n",
       "      <td>[101, 139, 149, 179, 192, 280, 282, 396, 403, ...</td>\n",
       "      <td>10</td>\n",
       "    </tr>\n",
       "    <tr>\n",
       "      <th>7</th>\n",
       "      <td>8</td>\n",
       "      <td>[0, 1, 2, 3, 4, 5, 6, 7, 8, 9, 10, 11, 12, 13,...</td>\n",
       "      <td>560</td>\n",
       "    </tr>\n",
       "    <tr>\n",
       "      <th>8</th>\n",
       "      <td>9</td>\n",
       "      <td>[160, 207, 282, 354, 388, 431, 505]</td>\n",
       "      <td>7</td>\n",
       "    </tr>\n",
       "    <tr>\n",
       "      <th>9</th>\n",
       "      <td>10</td>\n",
       "      <td>[26, 78, 99, 125, 139, 179, 201, 229, 236, 269...</td>\n",
       "      <td>20</td>\n",
       "    </tr>\n",
       "    <tr>\n",
       "      <th>10</th>\n",
       "      <td>11</td>\n",
       "      <td>[78, 99, 125, 139, 179, 201, 236, 357, 396, 43...</td>\n",
       "      <td>13</td>\n",
       "    </tr>\n",
       "  </tbody>\n",
       "</table>\n",
       "</div>"
      ],
      "text/plain": [
       "    Index                                            Anomaly  Length\n",
       "0       1  [0, 6, 7, 8, 18, 26, 35, 36, 55, 57, 62, 65, 6...      76\n",
       "1       2  [21, 26, 53, 68, 79, 80, 82, 88, 94, 115, 125,...      63\n",
       "2       3  [0, 1, 36, 53, 57, 67, 68, 82, 84, 88, 101, 10...      54\n",
       "3       4  [53, 68, 82, 88, 160, 162, 196, 207, 222, 282,...      17\n",
       "4       5                                         [207, 431]       2\n",
       "5       6  [53, 68, 82, 160, 162, 207, 282, 310, 354, 396...      13\n",
       "6       7  [101, 139, 149, 179, 192, 280, 282, 396, 403, ...      10\n",
       "7       8  [0, 1, 2, 3, 4, 5, 6, 7, 8, 9, 10, 11, 12, 13,...     560\n",
       "8       9                [160, 207, 282, 354, 388, 431, 505]       7\n",
       "9      10  [26, 78, 99, 125, 139, 179, 201, 229, 236, 269...      20\n",
       "10     11  [78, 99, 125, 139, 179, 201, 236, 357, 396, 43...      13"
      ]
     },
     "execution_count": 16,
     "metadata": {},
     "output_type": "execute_result"
    }
   ],
   "source": [
    "def append_anomalies_to_csv(anomaly_list, file_name):\n",
    "    \"\"\"\n",
    "    Appends the given anomaly list to an existing CSV file, or creates a new one if it doesn't exist.\n",
    "    Also adds a column indicating the length of the anomaly list.\n",
    "    \n",
    "    :param anomaly_list: List of anomaly indices.\n",
    "    :param file_name: Name of the CSV file to append to or create.\n",
    "    \"\"\"\n",
    "    try:\n",
    "        existing_df = pd.read_csv(file_name)\n",
    "    except FileNotFoundError:\n",
    "        existing_df = pd.DataFrame(columns=['Index', 'Anomaly', 'Length'])\n",
    "    \n",
    "    # Create a new DataFrame from the anomaly list\n",
    "    new_data = pd.DataFrame({'Anomaly': [anomaly_list], 'Length': [len(anomaly_list)]})\n",
    "    new_data['Index'] = existing_df.shape[0] + 1\n",
    "\n",
    "    # Append the new data to the existing DataFrame\n",
    "    updated_df = pd.concat([existing_df, new_data], ignore_index=True)\n",
    "\n",
    "    # Save the updated DataFrame to the CSV file\n",
    "    updated_df.to_csv(file_name, index=False)\n",
    "\n",
    "append_anomalies_to_csv(anomaly_list,'anomaly.csv')\n",
    "\n",
    "df = pd.read_csv('anomaly.csv')\n",
    "df"
   ]
  },
  {
   "cell_type": "code",
   "execution_count": null,
   "id": "bbe43a23-1bba-4d43-b1e9-704082827167",
   "metadata": {},
   "outputs": [],
   "source": [
    "from collections import Counter\n",
    "from ast import literal_eval\n",
    "def plot_anomaly_frequency_sorted(df):\n",
    "    # Extracting all numbers from the 'Anomaly' lists and flattening them into a single list\n",
    "    all_anomalies = [num for sublist in df['Anomaly'].apply(literal_eval) for num in sublist]\n",
    "    anomaly_counts = Counter(all_anomalies)\n",
    "    # Sorting the counts\n",
    "    sorted_anomaly_counts = dict(sorted(anomaly_counts.items()))\n",
    "    plt.figure(figsize=(15, 6))\n",
    "    plt.scatter(sorted_anomaly_counts.keys(), sorted_anomaly_counts.values())\n",
    "    plt.xlabel('Anomaly Number')\n",
    "    plt.ylabel('Frequency')\n",
    "    plt.title('Sorted Fre|quency of Each Number in Anomaly Lists')\n",
    "    plt.show()\n",
    "\n",
    "plot_anomaly_frequency_sorted(df)"
   ]
  },
  {
   "cell_type": "code",
   "execution_count": null,
   "id": "7f60a478-d37e-41fd-8dfc-bad8ad7b3f1d",
   "metadata": {},
   "outputs": [],
   "source": []
  }
 ],
 "metadata": {
  "kernelspec": {
   "display_name": "Python 3 (ipykernel)",
   "language": "python",
   "name": "python3"
  },
  "language_info": {
   "codemirror_mode": {
    "name": "ipython",
    "version": 3
   },
   "file_extension": ".py",
   "mimetype": "text/x-python",
   "name": "python",
   "nbconvert_exporter": "python",
   "pygments_lexer": "ipython3",
   "version": "3.11.7"
  }
 },
 "nbformat": 4,
 "nbformat_minor": 5
}
